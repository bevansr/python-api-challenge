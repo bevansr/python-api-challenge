{
 "cells": [
  {
   "cell_type": "markdown",
   "metadata": {},
   "source": [
    "# VacationPy\n",
    "----\n",
    "\n",
    "#### Note\n",
    "* Instructions have been included for each segment. You do not have to follow them exactly, but they are included to help you think through the steps."
   ]
  },
  {
   "cell_type": "code",
   "execution_count": 41,
   "metadata": {},
   "outputs": [],
   "source": [
    "# Dependencies and Setup\n",
    "import matplotlib.pyplot as plt\n",
    "import pandas as pd\n",
    "import numpy as np\n",
    "import requests\n",
    "import gmaps\n",
    "import os\n",
    "\n",
    "# Import API key\n",
    "from api_keys import g_key"
   ]
  },
  {
   "cell_type": "markdown",
   "metadata": {},
   "source": [
    "### Store Part I results into DataFrame\n",
    "* Load the csv exported in Part I to a DataFrame"
   ]
  },
  {
   "cell_type": "code",
   "execution_count": 42,
   "metadata": {},
   "outputs": [
    {
     "data": {
      "text/html": [
       "<div>\n",
       "<style scoped>\n",
       "    .dataframe tbody tr th:only-of-type {\n",
       "        vertical-align: middle;\n",
       "    }\n",
       "\n",
       "    .dataframe tbody tr th {\n",
       "        vertical-align: top;\n",
       "    }\n",
       "\n",
       "    .dataframe thead th {\n",
       "        text-align: right;\n",
       "    }\n",
       "</style>\n",
       "<table border=\"1\" class=\"dataframe\">\n",
       "  <thead>\n",
       "    <tr style=\"text-align: right;\">\n",
       "      <th></th>\n",
       "      <th>City</th>\n",
       "      <th>Lat</th>\n",
       "      <th>Lon</th>\n",
       "      <th>Temp</th>\n",
       "      <th>Humidity</th>\n",
       "      <th>Cloudiness</th>\n",
       "      <th>Windspeed</th>\n",
       "    </tr>\n",
       "  </thead>\n",
       "  <tbody>\n",
       "    <tr>\n",
       "      <th>0</th>\n",
       "      <td>Carnarvon</td>\n",
       "      <td>-24.87</td>\n",
       "      <td>113.63</td>\n",
       "      <td>73.40</td>\n",
       "      <td>69</td>\n",
       "      <td>40</td>\n",
       "      <td>16.11</td>\n",
       "    </tr>\n",
       "    <tr>\n",
       "      <th>1</th>\n",
       "      <td>Ushuaia</td>\n",
       "      <td>-54.80</td>\n",
       "      <td>-68.30</td>\n",
       "      <td>57.20</td>\n",
       "      <td>47</td>\n",
       "      <td>40</td>\n",
       "      <td>20.80</td>\n",
       "    </tr>\n",
       "    <tr>\n",
       "      <th>2</th>\n",
       "      <td>Narsaq</td>\n",
       "      <td>60.92</td>\n",
       "      <td>-46.05</td>\n",
       "      <td>28.40</td>\n",
       "      <td>74</td>\n",
       "      <td>100</td>\n",
       "      <td>3.36</td>\n",
       "    </tr>\n",
       "    <tr>\n",
       "      <th>3</th>\n",
       "      <td>Borogontsy</td>\n",
       "      <td>62.67</td>\n",
       "      <td>131.17</td>\n",
       "      <td>-10.08</td>\n",
       "      <td>89</td>\n",
       "      <td>97</td>\n",
       "      <td>4.99</td>\n",
       "    </tr>\n",
       "    <tr>\n",
       "      <th>4</th>\n",
       "      <td>Busselton</td>\n",
       "      <td>-33.65</td>\n",
       "      <td>115.33</td>\n",
       "      <td>66.00</td>\n",
       "      <td>83</td>\n",
       "      <td>97</td>\n",
       "      <td>1.01</td>\n",
       "    </tr>\n",
       "  </tbody>\n",
       "</table>\n",
       "</div>"
      ],
      "text/plain": [
       "         City    Lat     Lon   Temp  Humidity  Cloudiness  Windspeed\n",
       "0   Carnarvon -24.87  113.63  73.40        69          40      16.11\n",
       "1     Ushuaia -54.80  -68.30  57.20        47          40      20.80\n",
       "2      Narsaq  60.92  -46.05  28.40        74         100       3.36\n",
       "3  Borogontsy  62.67  131.17 -10.08        89          97       4.99\n",
       "4   Busselton -33.65  115.33  66.00        83          97       1.01"
      ]
     },
     "execution_count": 42,
     "metadata": {},
     "output_type": "execute_result"
    }
   ],
   "source": [
    "# read in csv output file from WeatherPy\n",
    "output_data_file = \"../output_data/cities.csv\"\n",
    "\n",
    "df = pd.read_csv(output_data_file)\n",
    "df.head()\n"
   ]
  },
  {
   "cell_type": "markdown",
   "metadata": {},
   "source": [
    "### Humidity Heatmap\n",
    "* Configure gmaps.\n",
    "* Use the Lat and Lng as locations and Humidity as the weight.\n",
    "* Add Heatmap layer to map."
   ]
  },
  {
   "cell_type": "code",
   "execution_count": 68,
   "metadata": {},
   "outputs": [],
   "source": [
    "# Configure gmaps\n",
    "gmaps.configure(api_key=g_key)\n",
    "\n",
    "# Store latitude and longitude in locations and Humidity as weight\n",
    "locations = df[[\"Lat\", \"Lon\"]]\n",
    "heatWeight = df[\"Humidity\"]"
   ]
  },
  {
   "cell_type": "code",
   "execution_count": 70,
   "metadata": {},
   "outputs": [
    {
     "data": {
      "application/vnd.jupyter.widget-view+json": {
       "model_id": "46d2ae9320a042ec93322bc1aee5664f",
       "version_major": 2,
       "version_minor": 0
      },
      "text/plain": [
       "Figure(layout=FigureLayout(height='420px'))"
      ]
     },
     "metadata": {},
     "output_type": "display_data"
    }
   ],
   "source": [
    "# Plot Heatmap\n",
    "fig = gmaps.figure()\n",
    "\n",
    "# Create heat layer\n",
    "heat_layer = gmaps.heatmap_layer(locations, weights=heatWeight, \n",
    "                                 dissipating=False, max_intensity=100,\n",
    "                                 point_radius=2)\n",
    "\n",
    "\n",
    "# Add layer\n",
    "fig.add_layer(heat_layer)\n",
    "\n",
    "# Display figure\n",
    "fig"
   ]
  },
  {
   "cell_type": "markdown",
   "metadata": {},
   "source": [
    "### Create new DataFrame fitting weather criteria\n",
    "* Narrow down the cities to fit weather conditions.\n",
    "* Drop any rows will null values."
   ]
  },
  {
   "cell_type": "code",
   "execution_count": 45,
   "metadata": {},
   "outputs": [
    {
     "data": {
      "text/plain": [
       "City          384\n",
       "Lat           384\n",
       "Lon           384\n",
       "Temp          384\n",
       "Humidity      384\n",
       "Cloudiness    384\n",
       "Windspeed     384\n",
       "dtype: int64"
      ]
     },
     "execution_count": 45,
     "metadata": {},
     "output_type": "execute_result"
    }
   ],
   "source": [
    "# Filter wind speed\n",
    "filtered_df = df.loc[df[\"Windspeed\"] < 10]\n",
    "# Updated count\n",
    "filtered_df.count()"
   ]
  },
  {
   "cell_type": "code",
   "execution_count": 46,
   "metadata": {},
   "outputs": [
    {
     "data": {
      "text/plain": [
       "City          88\n",
       "Lat           88\n",
       "Lon           88\n",
       "Temp          88\n",
       "Humidity      88\n",
       "Cloudiness    88\n",
       "Windspeed     88\n",
       "dtype: int64"
      ]
     },
     "execution_count": 46,
     "metadata": {},
     "output_type": "execute_result"
    }
   ],
   "source": [
    "# Filter down to cities with zero cloudiness\n",
    "cloud_df = filtered_df.loc[filtered_df[\"Cloudiness\"] == 0]\n",
    "cloud_df.count()"
   ]
  },
  {
   "cell_type": "code",
   "execution_count": 57,
   "metadata": {},
   "outputs": [
    {
     "data": {
      "text/plain": [
       "City          20\n",
       "Lat           20\n",
       "Lon           20\n",
       "Temp          20\n",
       "Humidity      20\n",
       "Cloudiness    20\n",
       "Windspeed     20\n",
       "dtype: int64"
      ]
     },
     "execution_count": 57,
     "metadata": {},
     "output_type": "execute_result"
    }
   ],
   "source": [
    "# Filter to temps above 70\n",
    "temp_df = cloud_df.loc[cloud_df[\"Temp\"] > 70]\n",
    "temp_df.count()"
   ]
  },
  {
   "cell_type": "code",
   "execution_count": 58,
   "metadata": {},
   "outputs": [
    {
     "data": {
      "text/plain": [
       "City          13\n",
       "Lat           13\n",
       "Lon           13\n",
       "Temp          13\n",
       "Humidity      13\n",
       "Cloudiness    13\n",
       "Windspeed     13\n",
       "dtype: int64"
      ]
     },
     "execution_count": 58,
     "metadata": {},
     "output_type": "execute_result"
    }
   ],
   "source": [
    "final_df = temp_df.loc[temp_df[\"Temp\"] <= 80]\n",
    "final_df.count()"
   ]
  },
  {
   "cell_type": "code",
   "execution_count": 61,
   "metadata": {},
   "outputs": [],
   "source": [
    "# Create lists to hold hotel data\n",
    "latitudes = final_df[\"Lat\"].tolist()\n",
    "longitudes = final_df[\"Lon\"].tolist()\n",
    "cities = final_df[\"City\"].tolist()\n",
    "hotels = []\n",
    "hotel_locations = []\n",
    "hotel_cities = []\n",
    "hotel_lat = []\n",
    "hotel_lng = []"
   ]
  },
  {
   "cell_type": "markdown",
   "metadata": {},
   "source": [
    "### Hotel Map\n",
    "* Store into variable named `hotel_df`.\n",
    "* Add a \"Hotel Name\" column to the DataFrame.\n",
    "* Set parameters to search for hotels with 5000 meters.\n",
    "* Hit the Google Places API for each city's coordinates.\n",
    "* Store the first Hotel result into the DataFrame.\n",
    "* Plot markers on top of the heatmap."
   ]
  },
  {
   "cell_type": "code",
   "execution_count": 62,
   "metadata": {},
   "outputs": [
    {
     "name": "stdout",
     "output_type": "stream",
     "text": [
      "Hotel Found. Name Added.\n",
      "No hotels found. Skipping\n",
      "Hotel Found. Name Added.\n",
      "Hotel Found. Name Added.\n",
      "Hotel Found. Name Added.\n",
      "Hotel Found. Name Added.\n",
      "No hotels found. Skipping\n",
      "Hotel Found. Name Added.\n",
      "No hotels found. Skipping\n",
      "Hotel Found. Name Added.\n",
      "Hotel Found. Name Added.\n",
      "Hotel Found. Name Added.\n",
      "Hotel Found. Name Added.\n"
     ]
    }
   ],
   "source": [
    "for x in range (len(latitudes)):\n",
    "    target_coordinates = f\"{latitudes[x]}, {longitudes[x]}\"\n",
    "    \n",
    "    params = {\n",
    "        \"location\": target_coordinates,\n",
    "        \"keyword\": \"Hotel\",\n",
    "        \"radius\": 5000,\n",
    "        \"type\": \"lodging\",\n",
    "        \"key\": g_key\n",
    "    }\n",
    "    \n",
    "    # base url\n",
    "    base_url = \"https://maps.googleapis.com/maps/api/place/nearbysearch/json\"\n",
    "    # run a request using our params dictionary\n",
    "    response = requests.get(base_url, params=params)\n",
    "    response_json = response.json()\n",
    "     # try to pull in hotel data for each location\n",
    "    try:\n",
    "        hotels.append(response_json[\"results\"][0][\"name\"])\n",
    "        hotel_locations.append(response_json[\"results\"][0][\"plus_code\"][\"compound_code\"])\n",
    "        hotel_lat.append(latitudes[x])\n",
    "        hotel_lng.append(longitudes[x])\n",
    "        hotel_cities.append(cities[x])\n",
    "        print(f\"Hotel Found. Name Added.\")\n",
    "    # handle exceptions if hotel data is not available for location    \n",
    "    except:\n",
    "        print(f\"No hotels found. Skipping\")\n",
    "        pass\n",
    "    "
   ]
  },
  {
   "cell_type": "code",
   "execution_count": 72,
   "metadata": {},
   "outputs": [
    {
     "data": {
      "text/html": [
       "<div>\n",
       "<style scoped>\n",
       "    .dataframe tbody tr th:only-of-type {\n",
       "        vertical-align: middle;\n",
       "    }\n",
       "\n",
       "    .dataframe tbody tr th {\n",
       "        vertical-align: top;\n",
       "    }\n",
       "\n",
       "    .dataframe thead th {\n",
       "        text-align: right;\n",
       "    }\n",
       "</style>\n",
       "<table border=\"1\" class=\"dataframe\">\n",
       "  <thead>\n",
       "    <tr style=\"text-align: right;\">\n",
       "      <th></th>\n",
       "      <th>Lat</th>\n",
       "      <th>Lng</th>\n",
       "      <th>City</th>\n",
       "      <th>Country</th>\n",
       "      <th>Hotel Name</th>\n",
       "    </tr>\n",
       "  </thead>\n",
       "  <tbody>\n",
       "    <tr>\n",
       "      <th>0</th>\n",
       "      <td>-39.03</td>\n",
       "      <td>177.37</td>\n",
       "      <td>Wairoa</td>\n",
       "      <td>WCQ4+FJ Wairoa, New Zealand</td>\n",
       "      <td>Whakamahia Lodge</td>\n",
       "    </tr>\n",
       "    <tr>\n",
       "      <th>1</th>\n",
       "      <td>17.02</td>\n",
       "      <td>54.09</td>\n",
       "      <td>Salalah</td>\n",
       "      <td>2496+Q7 Salalah, Oman</td>\n",
       "      <td>HYATT SALALAH HOTEL</td>\n",
       "    </tr>\n",
       "    <tr>\n",
       "      <th>2</th>\n",
       "      <td>16.78</td>\n",
       "      <td>94.73</td>\n",
       "      <td>Pathein</td>\n",
       "      <td>RQ29+Q3 Lon Kan Ward, Myanmar (Burma)</td>\n",
       "      <td>HOTEL LONKAN</td>\n",
       "    </tr>\n",
       "    <tr>\n",
       "      <th>3</th>\n",
       "      <td>20.43</td>\n",
       "      <td>99.88</td>\n",
       "      <td>Mae Sai</td>\n",
       "      <td>CV4R+P4 Wiang Phang Kham, Mae Sai District, Ch...</td>\n",
       "      <td>KhuanJai Resort</td>\n",
       "    </tr>\n",
       "    <tr>\n",
       "      <th>4</th>\n",
       "      <td>4.93</td>\n",
       "      <td>-52.33</td>\n",
       "      <td>Cayenne</td>\n",
       "      <td>WMMW+W4 Cayenne, French Guiana</td>\n",
       "      <td>Royal Amazonia</td>\n",
       "    </tr>\n",
       "    <tr>\n",
       "      <th>5</th>\n",
       "      <td>10.30</td>\n",
       "      <td>1.38</td>\n",
       "      <td>Natitingou</td>\n",
       "      <td>899F+7G Natitingou, Benin</td>\n",
       "      <td>Hotel Totora</td>\n",
       "    </tr>\n",
       "    <tr>\n",
       "      <th>6</th>\n",
       "      <td>-28.78</td>\n",
       "      <td>32.04</td>\n",
       "      <td>Richards Bay</td>\n",
       "      <td>634J+M8 Richards Bay, South Africa</td>\n",
       "      <td>BON Hotel Waterfront Richards Bay</td>\n",
       "    </tr>\n",
       "    <tr>\n",
       "      <th>7</th>\n",
       "      <td>-20.93</td>\n",
       "      <td>29.00</td>\n",
       "      <td>Gwanda</td>\n",
       "      <td>3XJV+M7 Gwanda, Zimbabwe</td>\n",
       "      <td>Skmo Lodge</td>\n",
       "    </tr>\n",
       "    <tr>\n",
       "      <th>8</th>\n",
       "      <td>-17.88</td>\n",
       "      <td>36.89</td>\n",
       "      <td>Quelimane</td>\n",
       "      <td>4VGP+P8 Quelimane, Mozambique</td>\n",
       "      <td>Hotel Elite</td>\n",
       "    </tr>\n",
       "    <tr>\n",
       "      <th>9</th>\n",
       "      <td>25.12</td>\n",
       "      <td>62.33</td>\n",
       "      <td>Gwadar</td>\n",
       "      <td>483H+HF Gwadar, Pakistan</td>\n",
       "      <td>Zaver Pearl Continental Hotel</td>\n",
       "    </tr>\n",
       "  </tbody>\n",
       "</table>\n",
       "</div>"
      ],
      "text/plain": [
       "     Lat     Lng          City  \\\n",
       "0 -39.03  177.37        Wairoa   \n",
       "1  17.02   54.09       Salalah   \n",
       "2  16.78   94.73       Pathein   \n",
       "3  20.43   99.88       Mae Sai   \n",
       "4   4.93  -52.33       Cayenne   \n",
       "5  10.30    1.38    Natitingou   \n",
       "6 -28.78   32.04  Richards Bay   \n",
       "7 -20.93   29.00        Gwanda   \n",
       "8 -17.88   36.89     Quelimane   \n",
       "9  25.12   62.33        Gwadar   \n",
       "\n",
       "                                             Country  \\\n",
       "0                        WCQ4+FJ Wairoa, New Zealand   \n",
       "1                              2496+Q7 Salalah, Oman   \n",
       "2              RQ29+Q3 Lon Kan Ward, Myanmar (Burma)   \n",
       "3  CV4R+P4 Wiang Phang Kham, Mae Sai District, Ch...   \n",
       "4                     WMMW+W4 Cayenne, French Guiana   \n",
       "5                          899F+7G Natitingou, Benin   \n",
       "6                 634J+M8 Richards Bay, South Africa   \n",
       "7                           3XJV+M7 Gwanda, Zimbabwe   \n",
       "8                      4VGP+P8 Quelimane, Mozambique   \n",
       "9                           483H+HF Gwadar, Pakistan   \n",
       "\n",
       "                          Hotel Name  \n",
       "0                   Whakamahia Lodge  \n",
       "1                HYATT SALALAH HOTEL  \n",
       "2                       HOTEL LONKAN  \n",
       "3                    KhuanJai Resort  \n",
       "4                     Royal Amazonia  \n",
       "5                       Hotel Totora  \n",
       "6  BON Hotel Waterfront Richards Bay  \n",
       "7                         Skmo Lodge  \n",
       "8                        Hotel Elite  \n",
       "9      Zaver Pearl Continental Hotel  "
      ]
     },
     "execution_count": 72,
     "metadata": {},
     "output_type": "execute_result"
    }
   ],
   "source": [
    "data_dict = {\n",
    "    \"Lat\" : hotel_lat,\n",
    "    \"Lng\" : hotel_lng,\n",
    "    \"City\" : hotel_cities,\n",
    "    \"Country\" : hotel_locations,\n",
    "    \"Hotel Name\" : hotels,\n",
    "}\n",
    "\n",
    "hotel_df = pd.DataFrame(data_dict)\n",
    "hotel_df"
   ]
  },
  {
   "cell_type": "code",
   "execution_count": 73,
   "metadata": {},
   "outputs": [],
   "source": [
    "# NOTE: Do not change any of the code in this cell\n",
    "\n",
    "# Using the template add the hotel marks to the heatmap\n",
    "info_box_template = \"\"\"\n",
    "<dl>\n",
    "<dt>Name</dt><dd>{Hotel Name}</dd>\n",
    "<dt>City</dt><dd>{City}</dd>\n",
    "<dt>Country</dt><dd>{Country}</dd>\n",
    "</dl>\n",
    "\"\"\"\n",
    "# Store the DataFrame Row\n",
    "# NOTE: be sure to update with your DataFrame name\n",
    "hotel_info = [info_box_template.format(**row) for index, row in hotel_df.iterrows()]\n",
    "locations = hotel_df[[\"Lat\", \"Lng\"]]"
   ]
  },
  {
   "cell_type": "code",
   "execution_count": 74,
   "metadata": {},
   "outputs": [
    {
     "data": {
      "application/vnd.jupyter.widget-view+json": {
       "model_id": "46d2ae9320a042ec93322bc1aee5664f",
       "version_major": 2,
       "version_minor": 0
      },
      "text/plain": [
       "Figure(layout=FigureLayout(height='420px'))"
      ]
     },
     "metadata": {},
     "output_type": "display_data"
    }
   ],
   "source": [
    "# Add marker layer ontop of heat map\n",
    "markers = gmaps.marker_layer(locations,\n",
    "    info_box_content=hotel_info)\n",
    "fig.add_layer(markers)\n",
    "\n",
    "# Display figure\n",
    "fig"
   ]
  },
  {
   "cell_type": "code",
   "execution_count": null,
   "metadata": {},
   "outputs": [],
   "source": []
  }
 ],
 "metadata": {
  "kernelspec": {
   "display_name": "Python 3",
   "language": "python",
   "name": "python3"
  },
  "language_info": {
   "codemirror_mode": {
    "name": "ipython",
    "version": 3
   },
   "file_extension": ".py",
   "mimetype": "text/x-python",
   "name": "python",
   "nbconvert_exporter": "python",
   "pygments_lexer": "ipython3",
   "version": "3.7.6"
  },
  "latex_envs": {
   "LaTeX_envs_menu_present": true,
   "autoclose": false,
   "autocomplete": true,
   "bibliofile": "biblio.bib",
   "cite_by": "apalike",
   "current_citInitial": 1,
   "eqLabelWithNumbers": true,
   "eqNumInitial": 1,
   "hotkeys": {
    "equation": "Ctrl-E",
    "itemize": "Ctrl-I"
   },
   "labels_anchors": false,
   "latex_user_defs": false,
   "report_style_numbering": false,
   "user_envs_cfg": false
  }
 },
 "nbformat": 4,
 "nbformat_minor": 4
}
